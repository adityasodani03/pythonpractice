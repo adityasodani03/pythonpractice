{
  "nbformat": 4,
  "nbformat_minor": 0,
  "metadata": {
    "colab": {
      "provenance": [],
      "authorship_tag": "ABX9TyN3kyAJk9CvUR5sHljPQXWd",
      "include_colab_link": true
    },
    "kernelspec": {
      "name": "python3",
      "display_name": "Python 3"
    },
    "language_info": {
      "name": "python"
    }
  },
  "cells": [
    {
      "cell_type": "markdown",
      "metadata": {
        "id": "view-in-github",
        "colab_type": "text"
      },
      "source": [
        "<a href=\"https://colab.research.google.com/github/adityasodani03/pythonpractice/blob/main/python_assignment1.ipynb\" target=\"_parent\"><img src=\"https://colab.research.google.com/assets/colab-badge.svg\" alt=\"Open In Colab\"/></a>"
      ]
    },
    {
      "cell_type": "markdown",
      "source": [
        "Question 1"
      ],
      "metadata": {
        "id": "DpWurs4iks-m"
      }
    },
    {
      "cell_type": "code",
      "source": [
        "x=int(input(\"Enter the number :\"))\n",
        "if(x%2==0):\n",
        " print(\"EVEN\")\n",
        "else:\n",
        "  print(\"ODD\")"
      ],
      "metadata": {
        "colab": {
          "base_uri": "https://localhost:8080/"
        },
        "id": "bNYvYC4wkv7a",
        "outputId": "a2a98ae9-fe89-46c7-f73a-e5ad27715570"
      },
      "execution_count": null,
      "outputs": [
        {
          "output_type": "stream",
          "name": "stdout",
          "text": [
            "Enter the number :25\n",
            "ODD\n"
          ]
        }
      ]
    },
    {
      "cell_type": "markdown",
      "source": [
        "Question 2"
      ],
      "metadata": {
        "id": "GRIrrSmOlPxm"
      }
    },
    {
      "cell_type": "code",
      "source": [
        "x=int(input(\"Enter the number 1 :\"))\n",
        "y=int(input(\"Enter the number 2 :\"))\n",
        "z=int(input(\"Enter the number 3 :\"))\n",
        "\n",
        "if(x>=y and x>=z):\n",
        "  print(\"The largest number is \",x)\n",
        "elif(y>=x and y>=z):\n",
        "  print(\"The largest number is \",y)\n",
        "else:\n",
        "  print(\"The largest number is \",z)"
      ],
      "metadata": {
        "colab": {
          "base_uri": "https://localhost:8080/"
        },
        "id": "YVjcnx-TlS94",
        "outputId": "8d979cd2-7cdd-4149-96f5-29155a264213"
      },
      "execution_count": null,
      "outputs": [
        {
          "output_type": "stream",
          "name": "stdout",
          "text": [
            "Enter the number 1 :12\n",
            "Enter the number 2 :35\n",
            "Enter the number 3 :987\n",
            "The largest number is  987\n"
          ]
        }
      ]
    },
    {
      "cell_type": "markdown",
      "source": [
        "Question 3"
      ],
      "metadata": {
        "id": "2Y-VIEAVmNx2"
      }
    },
    {
      "cell_type": "code",
      "source": [
        "year=int(input(\"Enter the year :\"))\n",
        "\n",
        "if((year%4==0 and year%100!=0) or (year%400==0)):\n",
        "  print(\"It is a leap year\")\n",
        "else:\n",
        "  print(\"It is not a leap year\")\n"
      ],
      "metadata": {
        "colab": {
          "base_uri": "https://localhost:8080/"
        },
        "id": "PsJSUb1RmPnB",
        "outputId": "39e33370-c076-470f-bc0c-55e5ca4082f0"
      },
      "execution_count": null,
      "outputs": [
        {
          "output_type": "stream",
          "name": "stdout",
          "text": [
            "Enter the year :2020\n",
            "It is a leap year\n"
          ]
        }
      ]
    },
    {
      "cell_type": "markdown",
      "source": [
        "Question 4"
      ],
      "metadata": {
        "id": "kbmTQCpaneHh"
      }
    },
    {
      "cell_type": "code",
      "source": [
        "percentage=int(input(\"Enter the percentage :\"))\n",
        "\n",
        "if(percentage>=90):\n",
        "  print(\"Grade A\")\n",
        "elif(percentage>=80 and percentage<90):\n",
        "  print(\"Grade B\")\n",
        "elif(percentage>=70 and percentage<80):\n",
        "  print(\"Grade C\")\n",
        "elif(percentage>=60 and percentage<70):\n",
        "  print(\"Grade D\")\n",
        "else:\n",
        "  print(\"Grade F\")"
      ],
      "metadata": {
        "colab": {
          "base_uri": "https://localhost:8080/"
        },
        "id": "xZSUWCi7ncC8",
        "outputId": "f30a4fd3-ecb8-426a-a80b-34aff86598dd"
      },
      "execution_count": null,
      "outputs": [
        {
          "output_type": "stream",
          "name": "stdout",
          "text": [
            "Enter the percentage :63\n",
            "Grade D\n"
          ]
        }
      ]
    },
    {
      "cell_type": "markdown",
      "source": [
        "Question 5"
      ],
      "metadata": {
        "id": "qZS9aJc1ojBV"
      }
    },
    {
      "cell_type": "code",
      "source": [
        "ch=input(\"Enter the character :\")\n",
        "\n",
        "if(ch==\"a\" or ch==\"e\" or ch==\"i\" or ch==\"o\" or ch==\"u\" or ch==\"A\" or ch==\"E\" or ch==\"I\" or ch==\"O\" or ch==\"U\"):\n",
        "  print(\"It is a vowel\")\n",
        "else:\n",
        "  print(\"It is a consonant\")"
      ],
      "metadata": {
        "colab": {
          "base_uri": "https://localhost:8080/"
        },
        "id": "nOg5dxXvolA5",
        "outputId": "a366c9fa-fd2c-42e9-f293-300a3ebf31b9"
      },
      "execution_count": null,
      "outputs": [
        {
          "output_type": "stream",
          "name": "stdout",
          "text": [
            "Enter the character :x\n",
            "It is a consonant\n"
          ]
        }
      ]
    },
    {
      "cell_type": "markdown",
      "source": [
        "Question 6"
      ],
      "metadata": {
        "id": "r8ZlPkGMpTf5"
      }
    },
    {
      "cell_type": "code",
      "source": [
        "x=int(input(\"Enter the number 1 :\"))\n",
        "y=int(input(\"Enter the number 2 :\"))\n",
        "operator=input(\"Enter the operator(+,-,*,/) :\")\n",
        "\n",
        "if(operator==\"+\"):\n",
        "  print(x+y)\n",
        "elif(operator==\"-\"):\n",
        "  print(x-y)\n",
        "elif(operator==\"*\"):\n",
        "  print(x*y)\n",
        "elif(operator==\"/\"):\n",
        "  print(x/y)\n",
        "else:\n",
        "  print(\"Invalid operator\")"
      ],
      "metadata": {
        "colab": {
          "base_uri": "https://localhost:8080/"
        },
        "id": "SUNJIyEFpVZy",
        "outputId": "3535c5e7-90ad-4777-f037-9421dcd13285"
      },
      "execution_count": null,
      "outputs": [
        {
          "output_type": "stream",
          "name": "stdout",
          "text": [
            "Enter the number 1 :130\n",
            "Enter the number 2 :5\n",
            "Enter the operator(+,-,*,/) :/\n",
            "26.0\n"
          ]
        }
      ]
    },
    {
      "cell_type": "markdown",
      "source": [
        "Question 7"
      ],
      "metadata": {
        "id": "ALpCUmpAp2-b"
      }
    },
    {
      "cell_type": "code",
      "source": [
        "x=int(input(\"Enter the number  :\"))\n",
        "if(x>0):\n",
        "  print(\"Positive\")\n",
        "elif(x<0):\n",
        "  print(\"Negative\")\n",
        "else:\n",
        "  print(\"Zero\")"
      ],
      "metadata": {
        "colab": {
          "base_uri": "https://localhost:8080/"
        },
        "id": "Vby91AR_p5Ca",
        "outputId": "662936c3-05d7-4545-9605-e32c338d83cc"
      },
      "execution_count": null,
      "outputs": [
        {
          "output_type": "stream",
          "name": "stdout",
          "text": [
            "Enter the number  :-56\n",
            "Negative\n"
          ]
        }
      ]
    },
    {
      "cell_type": "markdown",
      "source": [
        "Question 8"
      ],
      "metadata": {
        "id": "btSozXZqqE68"
      }
    },
    {
      "cell_type": "code",
      "source": [
        "username=input(\"Enter the username :\")\n",
        "password=input(\"Enter the password :\")\n",
        "\n",
        "if(username==\"admin\" and password==\"1234\"):\n",
        "  print(\"Login Successful\")\n",
        "else:\n",
        "  print(\"Login Failed\")"
      ],
      "metadata": {
        "colab": {
          "base_uri": "https://localhost:8080/"
        },
        "id": "9o3UjeJzqHGe",
        "outputId": "aeecb9ed-0f21-4d55-e9f8-f9016a79b3dc"
      },
      "execution_count": null,
      "outputs": [
        {
          "output_type": "stream",
          "name": "stdout",
          "text": [
            "Enter the username :admino\n",
            "Enter the password :1234\n",
            "Login Failed\n"
          ]
        }
      ]
    },
    {
      "cell_type": "markdown",
      "source": [
        "Question 9"
      ],
      "metadata": {
        "id": "DnFVT27kqmRR"
      }
    },
    {
      "cell_type": "code",
      "source": [
        "x=int(input(\"Enter the side 1 :\"))\n",
        "y=int(input(\"Enter the side 2 :\"))\n",
        "z=int(input(\"Enter the side 3 :\"))\n",
        "\n",
        "if(x+y>z and x+z>y and y+z>x):\n",
        "  print(\"It is a triangle\")\n",
        "else:\n",
        "  print(\"It is not a triangle\")"
      ],
      "metadata": {
        "colab": {
          "base_uri": "https://localhost:8080/"
        },
        "id": "XpCO2CuwqoHe",
        "outputId": "2a7e04b6-c3d6-4f63-8ed1-574316f45e01"
      },
      "execution_count": null,
      "outputs": [
        {
          "output_type": "stream",
          "name": "stdout",
          "text": [
            "Enter the side 1 :23\n",
            "Enter the side 2 :25\n",
            "Enter the side 3 :28\n",
            "It is a triangle\n"
          ]
        }
      ]
    },
    {
      "cell_type": "markdown",
      "source": [
        "Question 10"
      ],
      "metadata": {
        "id": "JtBXBRBArC1a"
      }
    },
    {
      "cell_type": "code",
      "source": [],
      "metadata": {
        "id": "no68xI2brEg5"
      },
      "execution_count": null,
      "outputs": []
    }
  ]
}