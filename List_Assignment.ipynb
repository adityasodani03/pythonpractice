{
  "nbformat": 4,
  "nbformat_minor": 0,
  "metadata": {
    "colab": {
      "provenance": [],
      "authorship_tag": "ABX9TyOXfKFvcBeVMNEOQbDi+RN5",
      "include_colab_link": true
    },
    "kernelspec": {
      "name": "python3",
      "display_name": "Python 3"
    },
    "language_info": {
      "name": "python"
    }
  },
  "cells": [
    {
      "cell_type": "markdown",
      "metadata": {
        "id": "view-in-github",
        "colab_type": "text"
      },
      "source": [
        "<a href=\"https://colab.research.google.com/github/adityasodani03/pythonpractice/blob/main/List_Assignment.ipynb\" target=\"_parent\"><img src=\"https://colab.research.google.com/assets/colab-badge.svg\" alt=\"Open In Colab\"/></a>"
      ]
    },
    {
      "cell_type": "markdown",
      "source": [
        "Question 1"
      ],
      "metadata": {
        "id": "w8bf7KKXEBqj"
      }
    },
    {
      "cell_type": "code",
      "execution_count": 3,
      "metadata": {
        "colab": {
          "base_uri": "https://localhost:8080/"
        },
        "id": "nABeETHDD7gE",
        "outputId": "c4bf4a7c-1cae-47c5-c247-09f96a55289d"
      },
      "outputs": [
        {
          "output_type": "stream",
          "name": "stdout",
          "text": [
            "the first 25 odd numbers are : [1, 3, 5, 7, 9, 11, 13, 15, 17, 19, 21, 23, 25, 27, 29, 31, 33, 35, 37, 39, 41, 43, 45, 47, 49]\n"
          ]
        }
      ],
      "source": [
        "odd_numbers=[i for i in range(1,50,2)]\n",
        "print(\"the first 25 odd numbers are :\",odd_numbers)\n",
        "\n"
      ]
    },
    {
      "cell_type": "markdown",
      "source": [
        "Question 2"
      ],
      "metadata": {
        "id": "bPAxecDiF8SZ"
      }
    },
    {
      "cell_type": "code",
      "source": [
        "str1=input(\"enter the string :\")\n",
        "lower_case=[char for char in str1 if char.islower()]\n",
        "upper_case=[char for char in str1 if not char.islower()]\n",
        "result=lower_case+upper_case\n",
        "output_str1=''.join(result)\n",
        "print(output_str1)"
      ],
      "metadata": {
        "colab": {
          "base_uri": "https://localhost:8080/"
        },
        "id": "pFahWTfiF-D8",
        "outputId": "bde8bee2-6728-4fa9-9ac4-7cd02825d163"
      },
      "execution_count": 5,
      "outputs": [
        {
          "output_type": "stream",
          "name": "stdout",
          "text": [
            "enter the string :akjkUHJ8287***&^)*!&&\n",
            "akjkUHJ8287***&^)*!&&\n"
          ]
        }
      ]
    },
    {
      "cell_type": "markdown",
      "source": [
        "Question 3"
      ],
      "metadata": {
        "id": "ny4VRMoBIgdl"
      }
    },
    {
      "cell_type": "code",
      "source": [
        "str1=input(\"enter the string :\")\n",
        "count1=0\n",
        "count2=0\n",
        "count3=0\n",
        "mylist=[char for char in str1]\n",
        "for i in range(0,len(mylist)):\n",
        "  if((mylist[i]>=\"a\" and mylist[i]<=\"z\") or (mylist[i]>=\"A\" and mylist[i]<=\"Z\")):\n",
        "    count1+=1\n",
        "  elif(mylist[i]>=\"0\" and mylist[i]<=\"9\"):\n",
        "    count2+=1\n",
        "  else:\n",
        "    count3+=1\n",
        "print(\"Letters count :\",count1)\n",
        "print(\"Digits count :\",count2)\n",
        "print(\"Special characters count :\",count3)"
      ],
      "metadata": {
        "colab": {
          "base_uri": "https://localhost:8080/"
        },
        "id": "fk85I9YjIiZy",
        "outputId": "45c52544-11c9-4e65-d6fc-97cc34eb9bae"
      },
      "execution_count": 9,
      "outputs": [
        {
          "output_type": "stream",
          "name": "stdout",
          "text": [
            "enter the string :adityasodani28@gmail.com\n",
            "Letters count : 20\n",
            "Digits count : 2\n",
            "Special characters count : 2\n"
          ]
        }
      ]
    },
    {
      "cell_type": "markdown",
      "source": [
        "Question 4"
      ],
      "metadata": {
        "id": "6seDDty4Kahe"
      }
    },
    {
      "cell_type": "code",
      "source": [
        "mylist=[\"aditya\",\"\",\"tushar\",\"\",\"\",\" adi\",\"\"]\n",
        "newlist=[]\n",
        "for i in range(0,len(mylist)):\n",
        "  str1=mylist[i]\n",
        "  if(str1!=\"\"):\n",
        "    newlist.append(str1)\n",
        "print(newlist)"
      ],
      "metadata": {
        "colab": {
          "base_uri": "https://localhost:8080/"
        },
        "id": "LwlPKqGuKcqt",
        "outputId": "87a91fd2-73a2-4041-c0d2-c50021897845"
      },
      "execution_count": 14,
      "outputs": [
        {
          "output_type": "stream",
          "name": "stdout",
          "text": [
            "['aditya', 'tushar', ' adi']\n"
          ]
        }
      ]
    },
    {
      "cell_type": "markdown",
      "source": [
        "Question 5"
      ],
      "metadata": {
        "id": "7ryaJsFcPINE"
      }
    },
    {
      "cell_type": "code",
      "source": [
        "str1=input(\"enter the string :\")\n",
        "mylist=[char for char in str1]\n",
        "newlist=[]\n",
        "for i in range(0,len(mylist)):\n",
        "  if((mylist[i]>=\"a\" and mylist[i]<=\"z\") or (mylist[i]>=\"A\" and mylist[i]<=\"Z\") or (mylist[i]>=\"0\" and mylist[i]<=\"9\")):\n",
        "    newlist.append(mylist[i])\n",
        "print(newlist)"
      ],
      "metadata": {
        "colab": {
          "base_uri": "https://localhost:8080/"
        },
        "id": "AIZP_zNkPD0V",
        "outputId": "4dd3b15a-f904-4da4-fa90-a772b2537e51"
      },
      "execution_count": 16,
      "outputs": [
        {
          "output_type": "stream",
          "name": "stdout",
          "text": [
            "enter the string :AD#%@jhahgs87231\n",
            "['A', 'D', 'j', 'h', 'a', 'h', 'g', 's', '8', '7', '2', '3', '1']\n"
          ]
        }
      ]
    },
    {
      "cell_type": "markdown",
      "source": [
        "Question 6"
      ],
      "metadata": {
        "id": "DKIv9pkOQZg8"
      }
    },
    {
      "cell_type": "code",
      "source": [
        "str1=input(\"enter the string :\")\n",
        "mylist=[char for char in str1]\n",
        "newlist=[]\n",
        "for i in range(0,len(mylist)):\n",
        "  if((mylist[i]>=\"0\" and mylist[i]<=\"9\")):\n",
        "    newlist.append(mylist[i])\n",
        "str1=''.join(newlist)\n",
        "print(str1)"
      ],
      "metadata": {
        "colab": {
          "base_uri": "https://localhost:8080/"
        },
        "id": "CBTYEWElQbQq",
        "outputId": "92f4425f-3235-4129-a358-96fac2dc1f9c"
      },
      "execution_count": 20,
      "outputs": [
        {
          "output_type": "stream",
          "name": "stdout",
          "text": [
            "enter the string :i am 23 years and 04 months old\n",
            "2304\n"
          ]
        }
      ]
    },
    {
      "cell_type": "markdown",
      "source": [
        "Question 10"
      ],
      "metadata": {
        "id": "QjYoVt-cSzSg"
      }
    },
    {
      "cell_type": "code",
      "source": [
        "mylist=[1,2,3,4,6,8,10]\n",
        "start=0\n",
        "end=len(mylist)-1\n",
        "while(start<=end):\n",
        "  temp=mylist[start]\n",
        "  mylist[start]=mylist[end]\n",
        "  mylist[end]=temp\n",
        "  start+=1\n",
        "  end-=1\n",
        "print(mylist)"
      ],
      "metadata": {
        "colab": {
          "base_uri": "https://localhost:8080/"
        },
        "id": "NroRt-v-SyR7",
        "outputId": "0454be60-13b0-4f1f-c0b7-a9d045416fb5"
      },
      "execution_count": 21,
      "outputs": [
        {
          "output_type": "stream",
          "name": "stdout",
          "text": [
            "[10, 8, 6, 4, 3, 2, 1]\n"
          ]
        }
      ]
    },
    {
      "cell_type": "markdown",
      "source": [
        "Question 11"
      ],
      "metadata": {
        "id": "a7M6UXQaUqC9"
      }
    },
    {
      "cell_type": "code",
      "source": [
        "mylist=[1,23,53,123,4324]\n",
        "#three methods :\n",
        "#mylist[:]\n",
        "#list(mylist)\n",
        "#mylist.copy\n",
        "clone_list=mylist.copy()\n",
        "print(mylist)\n",
        "print(clone_list)"
      ],
      "metadata": {
        "colab": {
          "base_uri": "https://localhost:8080/"
        },
        "id": "xA4kuZ07Urs8",
        "outputId": "447b012d-e44a-49b1-df19-90e0ee4fbf58"
      },
      "execution_count": 25,
      "outputs": [
        {
          "output_type": "stream",
          "name": "stdout",
          "text": [
            "[1, 23, 53, 123, 4324]\n",
            "[1, 23, 53, 123, 4324]\n"
          ]
        }
      ]
    },
    {
      "cell_type": "markdown",
      "source": [
        "Question 12"
      ],
      "metadata": {
        "id": "c15dj-uNVTj-"
      }
    },
    {
      "cell_type": "code",
      "source": [
        "mylist=[123,4241,1,3,33212]\n",
        "sum=0\n",
        "for i in mylist:\n",
        "  sum=sum+len(str(i))\n",
        "print(sum)"
      ],
      "metadata": {
        "colab": {
          "base_uri": "https://localhost:8080/"
        },
        "id": "CoOMRmw5VVI5",
        "outputId": "460c7d86-faf2-4038-9113-1b7492344f6b"
      },
      "execution_count": 26,
      "outputs": [
        {
          "output_type": "stream",
          "name": "stdout",
          "text": [
            "14\n"
          ]
        }
      ]
    },
    {
      "cell_type": "markdown",
      "source": [
        "Question 13"
      ],
      "metadata": {
        "id": "cfQI968kaX46"
      }
    },
    {
      "cell_type": "code",
      "source": [
        "mylist=[5,4,3,2,1]\n",
        "smallest=mylist[0]\n",
        "for i in mylist:\n",
        "  if(i<smallest):\n",
        "    smallest=i\n",
        "print(smallest)"
      ],
      "metadata": {
        "colab": {
          "base_uri": "https://localhost:8080/"
        },
        "id": "zrX6IcvpaZ0G",
        "outputId": "b1e59150-01c0-4f99-c34e-67ae645970c6"
      },
      "execution_count": 32,
      "outputs": [
        {
          "output_type": "stream",
          "name": "stdout",
          "text": [
            "1\n"
          ]
        }
      ]
    },
    {
      "cell_type": "markdown",
      "source": [
        "Question 14"
      ],
      "metadata": {
        "id": "0JlpqybYa_Fg"
      }
    },
    {
      "cell_type": "code",
      "source": [
        "mylist=[12,3,232,63,46,42,1]\n",
        "count_even=0\n",
        "count_odd=0\n",
        "for i in mylist:\n",
        "  if(i%2==0):\n",
        "    count_even+=1\n",
        "  else:\n",
        "    count_odd+=1\n",
        "print(\"count of even numbers :\",count_even)\n",
        "print(\"count of odd numbers :\",count_odd)"
      ],
      "metadata": {
        "colab": {
          "base_uri": "https://localhost:8080/"
        },
        "id": "RX6ztIjxbAw0",
        "outputId": "c6df3294-c07e-4644-8116-e6bf2ed2d91a"
      },
      "execution_count": 33,
      "outputs": [
        {
          "output_type": "stream",
          "name": "stdout",
          "text": [
            "count of even numbers : 4\n",
            "count of odd numbers : 3\n"
          ]
        }
      ]
    },
    {
      "cell_type": "markdown",
      "source": [
        "Question 15"
      ],
      "metadata": {
        "id": "mXgvgXKJbWG-"
      }
    },
    {
      "cell_type": "code",
      "source": [
        "mylist=[1,2,2,3,4,5,5,5,6]\n",
        "mydict={}\n",
        "for i in mylist:\n",
        "  if(i not in mydict):\n",
        "    mydict[i]=1\n",
        "  else:\n",
        "    mydict[i]+=1\n",
        "print(\"no. of unique values in list is :\",len(mydict))"
      ],
      "metadata": {
        "colab": {
          "base_uri": "https://localhost:8080/"
        },
        "id": "8DflQMtEbYTD",
        "outputId": "6a4d70b1-e7da-4a4b-f302-90136ccca0e0"
      },
      "execution_count": 35,
      "outputs": [
        {
          "output_type": "stream",
          "name": "stdout",
          "text": [
            "no. of unique values in list is : 6\n"
          ]
        }
      ]
    }
  ]
}