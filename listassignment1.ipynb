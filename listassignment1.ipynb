{
  "nbformat": 4,
  "nbformat_minor": 0,
  "metadata": {
    "colab": {
      "provenance": [],
      "authorship_tag": "ABX9TyPJ2LTsOY/Pd2pXmrpKTfUJ",
      "include_colab_link": true
    },
    "kernelspec": {
      "name": "python3",
      "display_name": "Python 3"
    },
    "language_info": {
      "name": "python"
    }
  },
  "cells": [
    {
      "cell_type": "markdown",
      "metadata": {
        "id": "view-in-github",
        "colab_type": "text"
      },
      "source": [
        "<a href=\"https://colab.research.google.com/github/adityasodani03/pythonpractice/blob/main/listassignment1.ipynb\" target=\"_parent\"><img src=\"https://colab.research.google.com/assets/colab-badge.svg\" alt=\"Open In Colab\"/></a>"
      ]
    },
    {
      "cell_type": "code",
      "execution_count": null,
      "metadata": {
        "colab": {
          "base_uri": "https://localhost:8080/"
        },
        "id": "R07Kkw-M24gV",
        "outputId": "1e9ff299-f515-408c-c4cd-543e4c169b51"
      },
      "outputs": [
        {
          "output_type": "stream",
          "name": "stdout",
          "text": [
            "99\n"
          ]
        }
      ],
      "source": [
        "numbers=[10,20,4,45,99]\n",
        "max1=numbers[0]\n",
        "for i in range(1,len(numbers)):\n",
        "  if(numbers[i]>max1):\n",
        "    max1=numbers[i]\n",
        "print(max1)"
      ]
    },
    {
      "cell_type": "code",
      "source": [
        "mylist=[10,20,30,40]\n",
        "sum1=0\n",
        "for i in range(0,len(mylist)):\n",
        "  sum1=sum1+mylist[i]\n",
        "print(sum1)"
      ],
      "metadata": {
        "colab": {
          "base_uri": "https://localhost:8080/"
        },
        "id": "CyYBt6NR3dcz",
        "outputId": "ae8fbd65-8656-47b8-9c2e-2d534cc86024"
      },
      "execution_count": null,
      "outputs": [
        {
          "output_type": "stream",
          "name": "stdout",
          "text": [
            "100\n"
          ]
        }
      ]
    },
    {
      "cell_type": "code",
      "source": [
        "mylist=[1,2,3,4,5]\n",
        "mylist1=[]\n",
        "for i in range(len(mylist)-1,-1,-1):\n",
        "  mylist1.append(mylist[i])\n",
        "print(mylist1)"
      ],
      "metadata": {
        "colab": {
          "base_uri": "https://localhost:8080/"
        },
        "id": "vKJS1uVl3tHp",
        "outputId": "7efbb516-a55b-41ae-92f3-0a03d2d84b7f"
      },
      "execution_count": null,
      "outputs": [
        {
          "output_type": "stream",
          "name": "stdout",
          "text": [
            "[5, 4, 3, 2, 1]\n"
          ]
        }
      ]
    },
    {
      "cell_type": "code",
      "source": [
        "mylist=[2,32,4,13,54,3]\n",
        "for i in range(0,len(mylist)):\n",
        "  for j in range(i+1,len(mylist)):\n",
        "    if(mylist[i]>mylist[j]):\n",
        "      temp=mylist[i]\n",
        "      mylist[i]=mylist[j]\n",
        "      mylist[j]=temp\n",
        "print(mylist)"
      ],
      "metadata": {
        "colab": {
          "base_uri": "https://localhost:8080/"
        },
        "id": "IVFooPEi4gAW",
        "outputId": "db315d94-ff7f-4828-e287-730cfb974811"
      },
      "execution_count": null,
      "outputs": [
        {
          "output_type": "stream",
          "name": "stdout",
          "text": [
            "[2, 3, 4, 13, 32, 54]\n"
          ]
        }
      ]
    },
    {
      "cell_type": "code",
      "source": [
        "mylist=[1,2,3,2,4,3,5,8,6,5]\n",
        "unique_mylist=[]\n",
        "for i in mylist:\n",
        "  if i not in unique_mylist:\n",
        "    unique_mylist.append(i)\n",
        "print(unique_mylist)\n"
      ],
      "metadata": {
        "colab": {
          "base_uri": "https://localhost:8080/"
        },
        "id": "BRgrHcTQ6mRP",
        "outputId": "8b53ab53-03a8-4f32-d682-6669af2cba2c"
      },
      "execution_count": null,
      "outputs": [
        {
          "output_type": "stream",
          "name": "stdout",
          "text": [
            "[1, 2, 3, 4, 5, 8, 6]\n"
          ]
        }
      ]
    },
    {
      "cell_type": "code",
      "source": [
        "mylist=[1,2,3,4,3,5,6]\n",
        "target=6\n",
        "for i in range(0,len(mylist)):\n",
        "  for j in range(i+1,len(mylist)):\n",
        "    if(mylist[i]+mylist[j]==target):\n",
        "      print(mylist[i],mylist[j])"
      ],
      "metadata": {
        "colab": {
          "base_uri": "https://localhost:8080/"
        },
        "id": "5Paa2SFM8dNb",
        "outputId": "935113c6-38d5-42f2-a01f-65748773271e"
      },
      "execution_count": null,
      "outputs": [
        {
          "output_type": "stream",
          "name": "stdout",
          "text": [
            "1 5\n",
            "2 4\n",
            "3 3\n"
          ]
        }
      ]
    },
    {
      "cell_type": "code",
      "source": [
        "mylist=[1,2,3,4,5]\n",
        "max1=mylist[0]\n",
        "min1=mylist[0]\n",
        "sum1=0\n",
        "for i in range(0,len(mylist)):\n",
        "  if(mylist[i]>max1):\n",
        "    max1=mylist[i]\n",
        "  if(mylist[i]<min1):\n",
        "    min1=mylist[i]\n",
        "  sum1=sum1+mylist[i]\n",
        "\n",
        "sum1=sum1-max1-min1\n",
        "print(sum1)"
      ],
      "metadata": {
        "colab": {
          "base_uri": "https://localhost:8080/"
        },
        "id": "17VtQiI2-aM3",
        "outputId": "14313669-f480-42ae-99cb-65e4c0730131"
      },
      "execution_count": null,
      "outputs": [
        {
          "output_type": "stream",
          "name": "stdout",
          "text": [
            "9\n"
          ]
        }
      ]
    },
    {
      "cell_type": "code",
      "source": [
        "mylist=[1,2,3,2,1]\n",
        "left=0\n",
        "right=len(mylist)-1\n",
        "\n",
        "while left<right:\n",
        "  if(mylist[left]==mylist[right]):\n",
        "    left=left+1\n",
        "    right=right-1\n",
        "  else:\n",
        "    print(\"not palindrome\")\n",
        "    break\n",
        "else:\n",
        "  print(\"palindrome\")\n"
      ],
      "metadata": {
        "colab": {
          "base_uri": "https://localhost:8080/"
        },
        "id": "7ZSZotEu_wX6",
        "outputId": "c5f4f331-d80c-494c-9f63-36071be8d2d2"
      },
      "execution_count": null,
      "outputs": [
        {
          "output_type": "stream",
          "name": "stdout",
          "text": [
            "palindrome\n"
          ]
        }
      ]
    },
    {
      "cell_type": "code",
      "source": [
        "list1=[1,2,3,4,5]\n",
        "list2=[3,4,5,6,7]\n",
        "result=[]\n",
        "for i in range(0,len(list1)):\n",
        "  for j in range(0,len(list2)):\n",
        "    if(list1[i]==list2[j]):\n",
        "      result.append(list1[i])\n",
        "      break\n",
        "print(result)"
      ],
      "metadata": {
        "id": "JULA94q5GD9D",
        "colab": {
          "base_uri": "https://localhost:8080/"
        },
        "outputId": "65ddf337-d541-44fb-97de-7d7081721c35"
      },
      "execution_count": 14,
      "outputs": [
        {
          "output_type": "stream",
          "name": "stdout",
          "text": [
            "[3, 4, 5]\n"
          ]
        }
      ]
    },
    {
      "cell_type": "code",
      "source": [
        "words = [\"apple\", \"banana\", \"strawberry\", \"kiwi\"]\n",
        "longest_word=\"\"\n",
        "\n",
        "for word in words:\n",
        "  if(len(word)>len(longest_word)):\n",
        "    longest_word=word\n",
        "print(longest_word)"
      ],
      "metadata": {
        "colab": {
          "base_uri": "https://localhost:8080/"
        },
        "id": "TJ4DzWWxHldt",
        "outputId": "a87afa7b-afdf-46c7-c2c5-1ec06b1d539d"
      },
      "execution_count": 15,
      "outputs": [
        {
          "output_type": "stream",
          "name": "stdout",
          "text": [
            "strawberry\n"
          ]
        }
      ]
    },
    {
      "cell_type": "code",
      "source": [
        "numbers=[1,2,3,5,6,7]\n",
        "\n",
        "n=len(numbers)+1\n",
        "expected_sum= n*(n+1)/2\n",
        "\n",
        "actual_sum=0\n",
        "for i in numbers:\n",
        "  actual_sum+=i\n",
        "missing_number=expected_sum-actual_sum\n",
        "print(missing_number)"
      ],
      "metadata": {
        "colab": {
          "base_uri": "https://localhost:8080/"
        },
        "id": "ZGwh0MHFKWdZ",
        "outputId": "2e42cc55-be49-4363-cda5-58d9184aa1ce"
      },
      "execution_count": 16,
      "outputs": [
        {
          "output_type": "stream",
          "name": "stdout",
          "text": [
            "4.0\n"
          ]
        }
      ]
    }
  ]
}