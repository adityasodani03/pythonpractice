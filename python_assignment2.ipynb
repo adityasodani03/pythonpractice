{
  "nbformat": 4,
  "nbformat_minor": 0,
  "metadata": {
    "colab": {
      "provenance": [],
      "authorship_tag": "ABX9TyOG3O5bGX87IKH26MJXB3BZ",
      "include_colab_link": true
    },
    "kernelspec": {
      "name": "python3",
      "display_name": "Python 3"
    },
    "language_info": {
      "name": "python"
    }
  },
  "cells": [
    {
      "cell_type": "markdown",
      "metadata": {
        "id": "view-in-github",
        "colab_type": "text"
      },
      "source": [
        "<a href=\"https://colab.research.google.com/github/adityasodani03/pythonpractice/blob/main/python_assignment2.ipynb\" target=\"_parent\"><img src=\"https://colab.research.google.com/assets/colab-badge.svg\" alt=\"Open In Colab\"/></a>"
      ]
    },
    {
      "cell_type": "markdown",
      "source": [
        "Question 1"
      ],
      "metadata": {
        "id": "DQfZmuBhCjGs"
      }
    },
    {
      "cell_type": "code",
      "execution_count": 2,
      "metadata": {
        "colab": {
          "base_uri": "https://localhost:8080/"
        },
        "id": "M0-bAVP1B2Qt",
        "outputId": "d6b4dcf8-30e7-429b-8da3-76b7393f6955"
      },
      "outputs": [
        {
          "output_type": "stream",
          "name": "stdout",
          "text": [
            "1 2 3 4 5 6 7 8 9 10 11 12 13 14 15 16 17 18 19 20 21 22 23 24 25 26 27 28 29 30 31 32 33 34 35 36 37 38 39 40 41 42 43 44 45 46 47 48 49 50 51 52 53 54 55 56 57 58 59 60 61 62 63 64 65 66 67 68 69 70 71 72 73 74 75 76 77 78 79 80 81 82 83 84 85 86 87 88 89 90 91 92 93 94 95 96 97 98 99 100 "
          ]
        }
      ],
      "source": [
        "n=1\n",
        "while(n<=100):\n",
        "  print(n,end=\" \")\n",
        "  n+=1"
      ]
    },
    {
      "cell_type": "markdown",
      "source": [
        "Question 2"
      ],
      "metadata": {
        "id": "xtrNuSzJCmVG"
      }
    },
    {
      "cell_type": "code",
      "source": [
        "n=int(input(\"enter the number : \"))\n",
        "while(n>=1):\n",
        "  print(n,end=\" \")\n",
        "  n-=1"
      ],
      "metadata": {
        "colab": {
          "base_uri": "https://localhost:8080/"
        },
        "id": "UDL-Wba-CoJz",
        "outputId": "bbe1ecc6-5032-4a63-d495-f5c9c2a57611"
      },
      "execution_count": 3,
      "outputs": [
        {
          "output_type": "stream",
          "name": "stdout",
          "text": [
            "enter the number : 10\n",
            "10 9 8 7 6 5 4 3 2 1 "
          ]
        }
      ]
    },
    {
      "cell_type": "markdown",
      "source": [
        "Question 3"
      ],
      "metadata": {
        "id": "5G3p1FlRDaTp"
      }
    },
    {
      "cell_type": "code",
      "source": [
        "char='a'\n",
        "while(char<='z'):\n",
        "  print(char,end=\" \")\n",
        "  char=chr(ord(char)+1)\n"
      ],
      "metadata": {
        "colab": {
          "base_uri": "https://localhost:8080/"
        },
        "id": "BsM4uWYADVlY",
        "outputId": "27c3840f-811b-453b-c7c3-087aa1909e84"
      },
      "execution_count": 5,
      "outputs": [
        {
          "output_type": "stream",
          "name": "stdout",
          "text": [
            "a b c d e f g h i j k l m n o p q r s t u v w x y z "
          ]
        }
      ]
    },
    {
      "cell_type": "markdown",
      "source": [
        "Question 4"
      ],
      "metadata": {
        "id": "slhYdc4fEgNq"
      }
    },
    {
      "cell_type": "code",
      "source": [
        "n=1\n",
        "while(n<=100):\n",
        "  if(n%2==0):\n",
        "    print(n,end=\" \")\n",
        "  n+=1"
      ],
      "metadata": {
        "colab": {
          "base_uri": "https://localhost:8080/"
        },
        "id": "op050uDLEiDE",
        "outputId": "b0ede6de-6e05-4d6e-ec06-8e4feba5899f"
      },
      "execution_count": 6,
      "outputs": [
        {
          "output_type": "stream",
          "name": "stdout",
          "text": [
            "2 4 6 8 10 12 14 16 18 20 22 24 26 28 30 32 34 36 38 40 42 44 46 48 50 52 54 56 58 60 62 64 66 68 70 72 74 76 78 80 82 84 86 88 90 92 94 96 98 100 "
          ]
        }
      ]
    },
    {
      "cell_type": "markdown",
      "source": [
        "Question 5"
      ],
      "metadata": {
        "id": "7PgtntWvEw7J"
      }
    },
    {
      "cell_type": "code",
      "source": [
        "n=int(input(\"enter the number : \"))\n",
        "sum=0\n",
        "while(n>=1):\n",
        "  if(n%2!=0):\n",
        "    sum=sum+n\n",
        "  n-=1\n",
        "print(\"sum of odd numbers is :\",sum)"
      ],
      "metadata": {
        "colab": {
          "base_uri": "https://localhost:8080/"
        },
        "id": "V7WdyDnQEzWU",
        "outputId": "0b36e5fc-7a6b-49a1-ef0e-673218f00117"
      },
      "execution_count": 7,
      "outputs": [
        {
          "output_type": "stream",
          "name": "stdout",
          "text": [
            "enter the number : 5\n",
            "sum of odd numbers is : 9\n"
          ]
        }
      ]
    },
    {
      "cell_type": "markdown",
      "source": [
        "Question 6"
      ],
      "metadata": {
        "id": "KLD-JzwzFhc7"
      }
    },
    {
      "cell_type": "code",
      "source": [
        "n=int(input(\"enter the number : \"))\n",
        "count=0\n",
        "while(n>0):\n",
        "  count+=1\n",
        "  n=n//10\n",
        "print(\"number of digits in the number is :\",count)"
      ],
      "metadata": {
        "colab": {
          "base_uri": "https://localhost:8080/"
        },
        "id": "ynsZ_g3lFjlw",
        "outputId": "7c86b561-434c-47d5-da77-78111115aaf7"
      },
      "execution_count": 8,
      "outputs": [
        {
          "output_type": "stream",
          "name": "stdout",
          "text": [
            "enter the number : 123456\n",
            "number of digits in the number is : 6\n"
          ]
        }
      ]
    },
    {
      "cell_type": "markdown",
      "source": [
        "Question 7"
      ],
      "metadata": {
        "id": "lX5VIUTNF-JD"
      }
    },
    {
      "cell_type": "code",
      "source": [
        "n=int(input(\"enter the number : \"))\n",
        "sum=0\n",
        "while(n>0):\n",
        "  r=n%10\n",
        "  sum=sum+r\n",
        "  n=n//10\n",
        "print(\"sum of digits in the number is :\",sum)"
      ],
      "metadata": {
        "colab": {
          "base_uri": "https://localhost:8080/"
        },
        "id": "5hjXNDNPGATT",
        "outputId": "2037f39d-1afe-4b9d-a09d-79b750a47636"
      },
      "execution_count": 9,
      "outputs": [
        {
          "output_type": "stream",
          "name": "stdout",
          "text": [
            "enter the number : 120345\n",
            "sum of digits in the number is : 15\n"
          ]
        }
      ]
    },
    {
      "cell_type": "markdown",
      "source": [
        "Question 8"
      ],
      "metadata": {
        "id": "cr60SHMzGbwD"
      }
    },
    {
      "cell_type": "code",
      "source": [
        "n=int(input(\"enter the number : \"))\n",
        "num=n%10\n",
        "while(n>=10):\n",
        "  n=n//10\n",
        "print(\"first digit :\",n)\n",
        "print(\"last digit :\",num)"
      ],
      "metadata": {
        "colab": {
          "base_uri": "https://localhost:8080/"
        },
        "id": "xZbHC4ahGdun",
        "outputId": "9f55c474-4469-4030-db95-f797f6060950"
      },
      "execution_count": 13,
      "outputs": [
        {
          "output_type": "stream",
          "name": "stdout",
          "text": [
            "enter the number : 1000\n",
            "first digit : 1\n",
            "last digit : 0\n"
          ]
        }
      ]
    },
    {
      "cell_type": "markdown",
      "source": [
        "Question 9"
      ],
      "metadata": {
        "id": "FxbcIXljHosw"
      }
    },
    {
      "cell_type": "code",
      "source": [
        "n=int(input(\"enter the number : \"))\n",
        "num=n%10\n",
        "while(n>=10):\n",
        "  n=n//10\n",
        "sum=num+n\n",
        "print(\"sum of first and last digit :\",sum)"
      ],
      "metadata": {
        "colab": {
          "base_uri": "https://localhost:8080/"
        },
        "id": "D5_l7MtaHq5G",
        "outputId": "e63d6396-0cd3-424a-9290-744d6da2023c"
      },
      "execution_count": 14,
      "outputs": [
        {
          "output_type": "stream",
          "name": "stdout",
          "text": [
            "enter the number : 1268568\n",
            "sum of first and last digit : 9\n"
          ]
        }
      ]
    },
    {
      "cell_type": "code",
      "source": [],
      "metadata": {
        "id": "0nxGYN5yH33A"
      },
      "execution_count": null,
      "outputs": []
    }
  ]
}