{
  "cells": [
    {
      "cell_type": "markdown",
      "metadata": {
        "id": "view-in-github",
        "colab_type": "text"
      },
      "source": [
        "<a href=\"https://colab.research.google.com/github/adityasodani03/pythonpractice/blob/main/dictionary.ipynb\" target=\"_parent\"><img src=\"https://colab.research.google.com/assets/colab-badge.svg\" alt=\"Open In Colab\"/></a>"
      ]
    },
    {
      "cell_type": "code",
      "execution_count": null,
      "metadata": {
        "colab": {
          "base_uri": "https://localhost:8080/"
        },
        "id": "48IXcV5HaD42",
        "outputId": "6eec5ad1-c411-4835-8022-42e1e2a721b2"
      },
      "outputs": [
        {
          "name": "stdout",
          "output_type": "stream",
          "text": [
            "{1: 1, 2: 1, 3: 1, 4: 1, 5: 1, 6: 1, 7: 1, 8: 1, 9: 1, 10: 1}\n"
          ]
        }
      ],
      "source": [
        "mydictionary={}\n",
        "for i in range(1,11):\n",
        "  mydictionary[i]=1\n",
        "print(mydictionary)"
      ]
    },
    {
      "cell_type": "code",
      "execution_count": null,
      "metadata": {
        "colab": {
          "base_uri": "https://localhost:8080/"
        },
        "id": "wWq7yMPhehfZ",
        "outputId": "3a7fada5-976e-46fd-e91a-22154591d416"
      },
      "outputs": [
        {
          "name": "stdout",
          "output_type": "stream",
          "text": [
            "{3: 100, 1: 1, 2: 1, 4: 1, 5: 1, 6: 1, 7: 1, 8: 1, 9: 1, 10: 1}\n"
          ]
        }
      ],
      "source": [
        "mydictionary={3:100}\n",
        "for i in range(1,11):\n",
        "  if i not in mydictionary:\n",
        "    mydictionary[i]=1\n",
        "print(mydictionary)"
      ]
    },
    {
      "cell_type": "code",
      "execution_count": null,
      "metadata": {
        "colab": {
          "base_uri": "https://localhost:8080/"
        },
        "id": "Vy74W4llga3h",
        "outputId": "081f476b-dad7-47e0-edc8-935d9b9b3b60"
      },
      "outputs": [
        {
          "name": "stdout",
          "output_type": "stream",
          "text": [
            "{'count': 9}\n"
          ]
        }
      ],
      "source": [
        "mydictionary={\"count\":0}\n",
        "for i in range(1,10):\n",
        "  mydictionary[\"count\"]+=1\n",
        "print(mydictionary)\n"
      ]
    },
    {
      "cell_type": "code",
      "execution_count": null,
      "metadata": {
        "colab": {
          "base_uri": "https://localhost:8080/"
        },
        "id": "TPoGkbVEhRWd",
        "outputId": "bac38774-5b5a-408d-d6d3-3fb77bbf1236"
      },
      "outputs": [
        {
          "name": "stdout",
          "output_type": "stream",
          "text": [
            "{'t': 1, 'u': 1, 's': 1, 'h': 1, 'a': 1, 'r': 1}\n"
          ]
        }
      ],
      "source": [
        "s=\"tushar\"\n",
        "mydictionary={}\n",
        "for i in range(0,len(s)):\n",
        "  mydictionary[s[i]]=1\n",
        "print(mydictionary)\n"
      ]
    },
    {
      "cell_type": "code",
      "execution_count": null,
      "metadata": {
        "colab": {
          "base_uri": "https://localhost:8080/"
        },
        "id": "fUo9qG83iycx",
        "outputId": "46d09adf-03c3-4381-95af-da9765c52a5a"
      },
      "outputs": [
        {
          "name": "stdout",
          "output_type": "stream",
          "text": [
            "{'h': 5, 't': 1, 'u': 1, 's': 1, 'a': 1, 'r': 1}\n"
          ]
        }
      ],
      "source": [
        "s=\"tushar\"\n",
        "mydictionary={\"h\":5}\n",
        "for i in range(0,len(s)):\n",
        "  if s[i] not in mydictionary:\n",
        "    mydictionary[s[i]]=1\n",
        "print(mydictionary)"
      ]
    },
    {
      "cell_type": "code",
      "execution_count": null,
      "metadata": {
        "colab": {
          "base_uri": "https://localhost:8080/"
        },
        "id": "jD9_Y0ITi-yD",
        "outputId": "5ace4bf4-98f8-48c6-82b1-2cb8ebc013dc"
      },
      "outputs": [
        {
          "output_type": "stream",
          "name": "stdout",
          "text": [
            "{'h': 6, 't': 1, 'u': 1, 's': 1, 'a': 1, 'r': 1}\n"
          ]
        }
      ],
      "source": [
        "s=\"tushar\"\n",
        "mydictionary={\"h\":5}\n",
        "for i in range(0,len(s)):\n",
        "  if s[i] not in mydictionary:\n",
        "    mydictionary[s[i]]=1\n",
        "  else:\n",
        "    mydictionary[s[i]]+=1\n",
        "print(mydictionary)"
      ]
    },
    {
      "cell_type": "code",
      "source": [
        "x=\"hey hello tushar hey\"\n",
        "y=x.split(\" \")\n",
        "mydictionary={}\n",
        "for i in y:\n",
        "  if i not in mydictionary:\n",
        "    mydictionary[i]=1\n",
        "  else:\n",
        "    mydictionary[i]+=1\n",
        "print(mydictionary)"
      ],
      "metadata": {
        "colab": {
          "base_uri": "https://localhost:8080/"
        },
        "id": "-ZvCJcejk82y",
        "outputId": "271ecf32-2895-4a58-9155-f2fcd551c26c"
      },
      "execution_count": null,
      "outputs": [
        {
          "output_type": "stream",
          "name": "stdout",
          "text": [
            "{'hey': 2, 'hello': 1, 'tushar': 1}\n"
          ]
        }
      ]
    },
    {
      "cell_type": "code",
      "source": [
        "mydict={'hey': 2, 'hello': 1, 'tushar': 1}\n",
        "for i in mydict:\n",
        "  print(i,mydict[i])\n"
      ],
      "metadata": {
        "id": "qLVrv_ejnl0y",
        "colab": {
          "base_uri": "https://localhost:8080/"
        },
        "outputId": "a1b9d10d-1bfb-4aa3-e69b-75308c91903d"
      },
      "execution_count": null,
      "outputs": [
        {
          "output_type": "stream",
          "name": "stdout",
          "text": [
            "hey 2\n",
            "hello 1\n",
            "tushar 1\n"
          ]
        }
      ]
    },
    {
      "cell_type": "code",
      "source": [
        "mydict={'hey': 2, 'hello': 1, 'tushar': 1}\n",
        "for i in mydict.keys():\n",
        "  print(i)"
      ],
      "metadata": {
        "colab": {
          "base_uri": "https://localhost:8080/"
        },
        "id": "XJ-4UeSun14U",
        "outputId": "d656c5bc-db0a-4ed3-e768-31a76011a510"
      },
      "execution_count": null,
      "outputs": [
        {
          "output_type": "stream",
          "name": "stdout",
          "text": [
            "hey\n",
            "hello\n",
            "tushar\n"
          ]
        }
      ]
    },
    {
      "cell_type": "code",
      "source": [
        "mydict={'hey': 2, 'hello': 1, 'tushar': 1}\n",
        "for i in mydict.values():\n",
        "  print(i)"
      ],
      "metadata": {
        "colab": {
          "base_uri": "https://localhost:8080/"
        },
        "id": "EfNTjzKWoksp",
        "outputId": "bfd799f1-33f1-4b88-90dc-f7fb3614533c"
      },
      "execution_count": null,
      "outputs": [
        {
          "output_type": "stream",
          "name": "stdout",
          "text": [
            "2\n",
            "1\n",
            "1\n"
          ]
        }
      ]
    },
    {
      "cell_type": "code",
      "source": [
        "mydict={'hey': 2, 'hello': 1, 'tushar': 1}\n",
        "for i in mydict.items():\n",
        "  print(i,type(i),i[0],i[1])\n"
      ],
      "metadata": {
        "colab": {
          "base_uri": "https://localhost:8080/"
        },
        "id": "1flg1b7Soosl",
        "outputId": "3bb2a420-5822-4c97-98e1-c8bae659a073"
      },
      "execution_count": null,
      "outputs": [
        {
          "output_type": "stream",
          "name": "stdout",
          "text": [
            "('hey', 2) <class 'tuple'> hey 2\n",
            "('hello', 1) <class 'tuple'> hello 1\n",
            "('tushar', 1) <class 'tuple'> tushar 1\n"
          ]
        }
      ]
    },
    {
      "cell_type": "code",
      "source": [
        "mylist=[10,20,30,10,10,20]\n",
        "mydict={}\n",
        "for i in mylist:\n",
        "  if i not in mydict:\n",
        "    mydict[i]=1\n",
        "  else:\n",
        "    mydict[i]+=1\n",
        "print(mydict)"
      ],
      "metadata": {
        "colab": {
          "base_uri": "https://localhost:8080/"
        },
        "id": "LxODjfDeoOMI",
        "outputId": "3f6b5741-a831-41e5-e253-e0d55894cc41"
      },
      "execution_count": null,
      "outputs": [
        {
          "output_type": "stream",
          "name": "stdout",
          "text": [
            "{10: 3, 20: 2, 30: 1}\n"
          ]
        }
      ]
    }
  ],
  "metadata": {
    "colab": {
      "provenance": [],
      "authorship_tag": "ABX9TyN/aD9KslXC1gLM9cji2a6/",
      "include_colab_link": true
    },
    "kernelspec": {
      "display_name": "Python 3",
      "name": "python3"
    },
    "language_info": {
      "name": "python"
    }
  },
  "nbformat": 4,
  "nbformat_minor": 0
}